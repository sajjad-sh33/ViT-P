{
 "cells": [
  {
   "cell_type": "code",
   "execution_count": 1,
   "id": "9d8e2e41-bc5f-4c93-8db9-b322a28d938b",
   "metadata": {},
   "outputs": [
    {
     "name": "stderr",
     "output_type": "stream",
     "text": [
      "/tmp/ipykernel_1001884/3014648576.py:3: FutureWarning: You are using `torch.load` with `weights_only=False` (the current default value), which uses the default pickle module implicitly. It is possible to construct malicious pickle data which will execute arbitrary code during unpickling (See https://github.com/pytorch/pytorch/blob/main/SECURITY.md#untrusted-models for more details). In a future release, the default value for `weights_only` will be flipped to `True`. This limits the functions that could be executed during unpickling. Arbitrary objects will no longer be allowed to be loaded via this mode unless they are explicitly allowlisted by the user via `torch.serialization.add_safe_globals`. We recommend you start setting `weights_only=True` for any use case where you don't have full control of the loaded file. Please open an issue on GitHub for any issues related to this experimental feature.\n",
      "  model_weights = torch.load('dinov2_vitl14_pretrain.pth')\n"
     ]
    }
   ],
   "source": [
    "import torch\n",
    "# Load weights\n",
    "model_weights = torch.load('dinov2_vitl14_pretrain.pth')"
   ]
  },
  {
   "cell_type": "code",
   "execution_count": 3,
   "id": "055d5a73-8d44-4813-9cc1-fcb35df65150",
   "metadata": {},
   "outputs": [
    {
     "name": "stderr",
     "output_type": "stream",
     "text": [
      "/tmp/ipykernel_1001884/1423769606.py:1: FutureWarning: You are using `torch.load` with `weights_only=False` (the current default value), which uses the default pickle module implicitly. It is possible to construct malicious pickle data which will execute arbitrary code during unpickling (See https://github.com/pytorch/pytorch/blob/main/SECURITY.md#untrusted-models for more details). In a future release, the default value for `weights_only` will be flipped to `True`. This limits the functions that could be executed during unpickling. Arbitrary objects will no longer be allowed to be loaded via this mode unless they are explicitly allowlisted by the user via `torch.serialization.add_safe_globals`. We recommend you start setting `weights_only=True` for any use case where you don't have full control of the loaded file. Please open an issue on GitHub for any issues related to this experimental feature.\n",
      "  state_dict = torch.load('checkpoint.pth', map_location=torch.device('cpu'))\n"
     ]
    }
   ],
   "source": [
    "state_dict = torch.load('checkpoint.pth', map_location=torch.device('cpu'))"
   ]
  },
  {
   "cell_type": "code",
   "execution_count": 8,
   "id": "ab3eb669-0c2f-494e-8d9d-881eb3cde884",
   "metadata": {},
   "outputs": [
    {
     "ename": "KeyError",
     "evalue": "'head.bias'",
     "output_type": "error",
     "traceback": [
      "\u001b[0;31m---------------------------------------------------------------------------\u001b[0m",
      "\u001b[0;31mKeyError\u001b[0m                                  Traceback (most recent call last)",
      "Cell \u001b[0;32mIn[8], line 1\u001b[0m\n\u001b[0;32m----> 1\u001b[0m \u001b[43mstate_dict\u001b[49m\u001b[43m[\u001b[49m\u001b[38;5;124;43m'\u001b[39;49m\u001b[38;5;124;43mhead.bias\u001b[39;49m\u001b[38;5;124;43m'\u001b[39;49m\u001b[43m]\u001b[49m\u001b[38;5;241m.\u001b[39mshape\n",
      "\u001b[0;31mKeyError\u001b[0m: 'head.bias'"
     ]
    }
   ],
   "source": [
    "state_dict['head.bias'].shape"
   ]
  },
  {
   "cell_type": "code",
   "execution_count": 7,
   "id": "a73bcf05-213b-44c9-b7d9-25a9bc2f35e1",
   "metadata": {},
   "outputs": [],
   "source": [
    "if 'head.weight' in state_dict:\n",
    "    del state_dict['head.weight']\n",
    "if 'head.bias' in state_dict:\n",
    "    del state_dict['head.bias']"
   ]
  },
  {
   "cell_type": "code",
   "execution_count": null,
   "id": "dd809f2d-254c-4908-8461-cf4b1b350653",
   "metadata": {},
   "outputs": [],
   "source": []
  }
 ],
 "metadata": {
  "kernelspec": {
   "display_name": "Python 3 (ipykernel)",
   "language": "python",
   "name": "python3"
  },
  "language_info": {
   "codemirror_mode": {
    "name": "ipython",
    "version": 3
   },
   "file_extension": ".py",
   "mimetype": "text/x-python",
   "name": "python",
   "nbconvert_exporter": "python",
   "pygments_lexer": "ipython3",
   "version": "3.11.5"
  }
 },
 "nbformat": 4,
 "nbformat_minor": 5
}
